{
  "nbformat": 4,
  "nbformat_minor": 0,
  "metadata": {
    "colab": {
      "provenance": [],
      "authorship_tag": "ABX9TyO0SBWKcab2XlTtIHbVhaHc",
      "include_colab_link": true
    },
    "kernelspec": {
      "name": "python3",
      "display_name": "Python 3"
    },
    "language_info": {
      "name": "python"
    }
  },
  "cells": [
    {
      "cell_type": "markdown",
      "metadata": {
        "id": "view-in-github",
        "colab_type": "text"
      },
      "source": [
        "<a href=\"https://colab.research.google.com/github/Kavyagandhi23/ML-using-PySpark/blob/main/ML_with_PySpark.ipynb\" target=\"_parent\"><img src=\"https://colab.research.google.com/assets/colab-badge.svg\" alt=\"Open In Colab\"/></a>"
      ]
    },
    {
      "cell_type": "code",
      "execution_count": null,
      "metadata": {
        "colab": {
          "base_uri": "https://localhost:8080/"
        },
        "id": "83wFFUZJDBY5",
        "outputId": "e1908230-ac07-4d43-e4eb-5cc37a54d331"
      },
      "outputs": [
        {
          "output_type": "stream",
          "name": "stdout",
          "text": [
            "Requirement already satisfied: pyspark in /usr/local/lib/python3.10/dist-packages (3.5.0)\n",
            "Requirement already satisfied: py4j==0.10.9.7 in /usr/local/lib/python3.10/dist-packages (from pyspark) (0.10.9.7)\n"
          ]
        }
      ],
      "source": [
        "!pip install pyspark"
      ]
    },
    {
      "cell_type": "code",
      "source": [
        "from pyspark.sql import SparkSession"
      ],
      "metadata": {
        "id": "qyDtBl8fDJr3"
      },
      "execution_count": null,
      "outputs": []
    },
    {
      "cell_type": "code",
      "source": [
        "spark = SparkSession.builder.master('local').appName('Colab').config('spark.ui.port','4050').getOrCreate()"
      ],
      "metadata": {
        "id": "9nsnw9RQDeoU"
      },
      "execution_count": null,
      "outputs": []
    },
    {
      "cell_type": "code",
      "source": [
        "spark"
      ],
      "metadata": {
        "colab": {
          "base_uri": "https://localhost:8080/",
          "height": 219
        },
        "id": "fqf1Ih_WD-Wy",
        "outputId": "160d158b-a2d5-482c-d634-3c125e3cf236"
      },
      "execution_count": null,
      "outputs": [
        {
          "output_type": "execute_result",
          "data": {
            "text/plain": [
              "<pyspark.sql.session.SparkSession at 0x79cde2479f60>"
            ],
            "text/html": [
              "\n",
              "            <div>\n",
              "                <p><b>SparkSession - in-memory</b></p>\n",
              "                \n",
              "        <div>\n",
              "            <p><b>SparkContext</b></p>\n",
              "\n",
              "            <p><a href=\"http://5708241ec670:4050\">Spark UI</a></p>\n",
              "\n",
              "            <dl>\n",
              "              <dt>Version</dt>\n",
              "                <dd><code>v3.5.0</code></dd>\n",
              "              <dt>Master</dt>\n",
              "                <dd><code>local</code></dd>\n",
              "              <dt>AppName</dt>\n",
              "                <dd><code>Colab</code></dd>\n",
              "            </dl>\n",
              "        </div>\n",
              "        \n",
              "            </div>\n",
              "        "
            ]
          },
          "metadata": {},
          "execution_count": 115
        }
      ]
    },
    {
      "cell_type": "code",
      "source": [
        "data = spark.read.csv('housing.csv', header=True, inferSchema=True)"
      ],
      "metadata": {
        "id": "Hb-I1C_oEGOr"
      },
      "execution_count": null,
      "outputs": []
    },
    {
      "cell_type": "code",
      "source": [
        "data.show()"
      ],
      "metadata": {
        "colab": {
          "base_uri": "https://localhost:8080/"
        },
        "id": "iM9wlKz0EyAD",
        "outputId": "90173d5a-7715-4c87-a7f2-396aa34235e8"
      },
      "execution_count": null,
      "outputs": [
        {
          "output_type": "stream",
          "name": "stdout",
          "text": [
            "+---------+--------+------------------+-----------+--------------+----------+----------+-------------+------------------+---------------+\n",
            "|longitude|latitude|housing_median_age|total_rooms|total_bedrooms|population|households|median_income|median_house_value|ocean_proximity|\n",
            "+---------+--------+------------------+-----------+--------------+----------+----------+-------------+------------------+---------------+\n",
            "|  -122.23|   37.88|              41.0|      880.0|         129.0|     322.0|     126.0|       8.3252|          452600.0|       NEAR BAY|\n",
            "|  -122.22|   37.86|              21.0|     7099.0|        1106.0|    2401.0|    1138.0|       8.3014|          358500.0|       NEAR BAY|\n",
            "|  -122.24|   37.85|              52.0|     1467.0|         190.0|     496.0|     177.0|       7.2574|          352100.0|       NEAR BAY|\n",
            "|  -122.25|   37.85|              52.0|     1274.0|         235.0|     558.0|     219.0|       5.6431|          341300.0|       NEAR BAY|\n",
            "|  -122.25|   37.85|              52.0|     1627.0|         280.0|     565.0|     259.0|       3.8462|          342200.0|       NEAR BAY|\n",
            "|  -122.25|   37.85|              52.0|      919.0|         213.0|     413.0|     193.0|       4.0368|          269700.0|       NEAR BAY|\n",
            "|  -122.25|   37.84|              52.0|     2535.0|         489.0|    1094.0|     514.0|       3.6591|          299200.0|       NEAR BAY|\n",
            "|  -122.25|   37.84|              52.0|     3104.0|         687.0|    1157.0|     647.0|         3.12|          241400.0|       NEAR BAY|\n",
            "|  -122.26|   37.84|              42.0|     2555.0|         665.0|    1206.0|     595.0|       2.0804|          226700.0|       NEAR BAY|\n",
            "|  -122.25|   37.84|              52.0|     3549.0|         707.0|    1551.0|     714.0|       3.6912|          261100.0|       NEAR BAY|\n",
            "|  -122.26|   37.85|              52.0|     2202.0|         434.0|     910.0|     402.0|       3.2031|          281500.0|       NEAR BAY|\n",
            "|  -122.26|   37.85|              52.0|     3503.0|         752.0|    1504.0|     734.0|       3.2705|          241800.0|       NEAR BAY|\n",
            "|  -122.26|   37.85|              52.0|     2491.0|         474.0|    1098.0|     468.0|        3.075|          213500.0|       NEAR BAY|\n",
            "|  -122.26|   37.84|              52.0|      696.0|         191.0|     345.0|     174.0|       2.6736|          191300.0|       NEAR BAY|\n",
            "|  -122.26|   37.85|              52.0|     2643.0|         626.0|    1212.0|     620.0|       1.9167|          159200.0|       NEAR BAY|\n",
            "|  -122.26|   37.85|              50.0|     1120.0|         283.0|     697.0|     264.0|        2.125|          140000.0|       NEAR BAY|\n",
            "|  -122.27|   37.85|              52.0|     1966.0|         347.0|     793.0|     331.0|        2.775|          152500.0|       NEAR BAY|\n",
            "|  -122.27|   37.85|              52.0|     1228.0|         293.0|     648.0|     303.0|       2.1202|          155500.0|       NEAR BAY|\n",
            "|  -122.26|   37.84|              50.0|     2239.0|         455.0|     990.0|     419.0|       1.9911|          158700.0|       NEAR BAY|\n",
            "|  -122.27|   37.84|              52.0|     1503.0|         298.0|     690.0|     275.0|       2.6033|          162900.0|       NEAR BAY|\n",
            "+---------+--------+------------------+-----------+--------------+----------+----------+-------------+------------------+---------------+\n",
            "only showing top 20 rows\n",
            "\n"
          ]
        }
      ]
    },
    {
      "cell_type": "code",
      "source": [
        "data.printSchema()"
      ],
      "metadata": {
        "colab": {
          "base_uri": "https://localhost:8080/"
        },
        "id": "moxLui5ME17C",
        "outputId": "a2848ae7-eb58-4656-f933-64edc1a92cd0"
      },
      "execution_count": null,
      "outputs": [
        {
          "output_type": "stream",
          "name": "stdout",
          "text": [
            "root\n",
            " |-- longitude: double (nullable = true)\n",
            " |-- latitude: double (nullable = true)\n",
            " |-- housing_median_age: double (nullable = true)\n",
            " |-- total_rooms: double (nullable = true)\n",
            " |-- total_bedrooms: double (nullable = true)\n",
            " |-- population: double (nullable = true)\n",
            " |-- households: double (nullable = true)\n",
            " |-- median_income: double (nullable = true)\n",
            " |-- median_house_value: double (nullable = true)\n",
            " |-- ocean_proximity: string (nullable = true)\n",
            "\n"
          ]
        }
      ]
    },
    {
      "cell_type": "code",
      "source": [
        "data.describe().show()"
      ],
      "metadata": {
        "colab": {
          "base_uri": "https://localhost:8080/"
        },
        "id": "zOvaB3JFE7PQ",
        "outputId": "5b7020ae-4cc5-44f2-badb-4033e982149c"
      },
      "execution_count": null,
      "outputs": [
        {
          "output_type": "stream",
          "name": "stdout",
          "text": [
            "+-------+-------------------+-----------------+------------------+------------------+------------------+------------------+-----------------+------------------+------------------+---------------+\n",
            "|summary|          longitude|         latitude|housing_median_age|       total_rooms|    total_bedrooms|        population|       households|     median_income|median_house_value|ocean_proximity|\n",
            "+-------+-------------------+-----------------+------------------+------------------+------------------+------------------+-----------------+------------------+------------------+---------------+\n",
            "|  count|              20640|            20640|             20640|             20640|             20433|             20640|            20640|             20640|             20640|          20640|\n",
            "|   mean|-119.56970445736148| 35.6318614341087|28.639486434108527|2635.7630813953488| 537.8705525375618|1425.4767441860465|499.5396802325581|3.8706710029070246|206855.81690891474|           NULL|\n",
            "| stddev|  2.003531723502584|2.135952397457101| 12.58555761211163|2181.6152515827944|421.38507007403115|  1132.46212176534|382.3297528316098| 1.899821717945263|115395.61587441359|           NULL|\n",
            "|    min|            -124.35|            32.54|               1.0|               2.0|               1.0|               3.0|              1.0|            0.4999|           14999.0|      <1H OCEAN|\n",
            "|    max|            -114.31|            41.95|              52.0|           39320.0|            6445.0|           35682.0|           6082.0|           15.0001|          500001.0|     NEAR OCEAN|\n",
            "+-------+-------------------+-----------------+------------------+------------------+------------------+------------------+-----------------+------------------+------------------+---------------+\n",
            "\n"
          ]
        }
      ]
    },
    {
      "cell_type": "code",
      "source": [
        "from pyspark.sql.functions import monotonically_increasing_id"
      ],
      "metadata": {
        "id": "rIEcGLEKFAdj"
      },
      "execution_count": null,
      "outputs": []
    },
    {
      "cell_type": "code",
      "source": [
        "data = data.withColumn('id', monotonically_increasing_id())\n",
        "data=data[['id'] + data.columns[:-1]]"
      ],
      "metadata": {
        "id": "ANL_MQrdFM1X"
      },
      "execution_count": null,
      "outputs": []
    },
    {
      "cell_type": "code",
      "source": [
        "data.show()"
      ],
      "metadata": {
        "colab": {
          "base_uri": "https://localhost:8080/"
        },
        "id": "tVk8TN72Fd2Z",
        "outputId": "4e929728-4c08-47ba-958e-0ab6937a44da"
      },
      "execution_count": null,
      "outputs": [
        {
          "output_type": "stream",
          "name": "stdout",
          "text": [
            "+---+---------+--------+------------------+-----------+--------------+----------+----------+-------------+------------------+---------------+\n",
            "| id|longitude|latitude|housing_median_age|total_rooms|total_bedrooms|population|households|median_income|median_house_value|ocean_proximity|\n",
            "+---+---------+--------+------------------+-----------+--------------+----------+----------+-------------+------------------+---------------+\n",
            "|  0|  -122.23|   37.88|              41.0|      880.0|         129.0|     322.0|     126.0|       8.3252|          452600.0|       NEAR BAY|\n",
            "|  1|  -122.22|   37.86|              21.0|     7099.0|        1106.0|    2401.0|    1138.0|       8.3014|          358500.0|       NEAR BAY|\n",
            "|  2|  -122.24|   37.85|              52.0|     1467.0|         190.0|     496.0|     177.0|       7.2574|          352100.0|       NEAR BAY|\n",
            "|  3|  -122.25|   37.85|              52.0|     1274.0|         235.0|     558.0|     219.0|       5.6431|          341300.0|       NEAR BAY|\n",
            "|  4|  -122.25|   37.85|              52.0|     1627.0|         280.0|     565.0|     259.0|       3.8462|          342200.0|       NEAR BAY|\n",
            "|  5|  -122.25|   37.85|              52.0|      919.0|         213.0|     413.0|     193.0|       4.0368|          269700.0|       NEAR BAY|\n",
            "|  6|  -122.25|   37.84|              52.0|     2535.0|         489.0|    1094.0|     514.0|       3.6591|          299200.0|       NEAR BAY|\n",
            "|  7|  -122.25|   37.84|              52.0|     3104.0|         687.0|    1157.0|     647.0|         3.12|          241400.0|       NEAR BAY|\n",
            "|  8|  -122.26|   37.84|              42.0|     2555.0|         665.0|    1206.0|     595.0|       2.0804|          226700.0|       NEAR BAY|\n",
            "|  9|  -122.25|   37.84|              52.0|     3549.0|         707.0|    1551.0|     714.0|       3.6912|          261100.0|       NEAR BAY|\n",
            "| 10|  -122.26|   37.85|              52.0|     2202.0|         434.0|     910.0|     402.0|       3.2031|          281500.0|       NEAR BAY|\n",
            "| 11|  -122.26|   37.85|              52.0|     3503.0|         752.0|    1504.0|     734.0|       3.2705|          241800.0|       NEAR BAY|\n",
            "| 12|  -122.26|   37.85|              52.0|     2491.0|         474.0|    1098.0|     468.0|        3.075|          213500.0|       NEAR BAY|\n",
            "| 13|  -122.26|   37.84|              52.0|      696.0|         191.0|     345.0|     174.0|       2.6736|          191300.0|       NEAR BAY|\n",
            "| 14|  -122.26|   37.85|              52.0|     2643.0|         626.0|    1212.0|     620.0|       1.9167|          159200.0|       NEAR BAY|\n",
            "| 15|  -122.26|   37.85|              50.0|     1120.0|         283.0|     697.0|     264.0|        2.125|          140000.0|       NEAR BAY|\n",
            "| 16|  -122.27|   37.85|              52.0|     1966.0|         347.0|     793.0|     331.0|        2.775|          152500.0|       NEAR BAY|\n",
            "| 17|  -122.27|   37.85|              52.0|     1228.0|         293.0|     648.0|     303.0|       2.1202|          155500.0|       NEAR BAY|\n",
            "| 18|  -122.26|   37.84|              50.0|     2239.0|         455.0|     990.0|     419.0|       1.9911|          158700.0|       NEAR BAY|\n",
            "| 19|  -122.27|   37.84|              52.0|     1503.0|         298.0|     690.0|     275.0|       2.6033|          162900.0|       NEAR BAY|\n",
            "+---+---------+--------+------------------+-----------+--------------+----------+----------+-------------+------------------+---------------+\n",
            "only showing top 20 rows\n",
            "\n"
          ]
        }
      ]
    },
    {
      "cell_type": "code",
      "source": [
        "data.select('total_rooms').agg({'total_rooms':'avg'}).show()"
      ],
      "metadata": {
        "colab": {
          "base_uri": "https://localhost:8080/"
        },
        "id": "Y63oqoE1FfYW",
        "outputId": "229f833d-da64-4492-c6fd-c092997f2e15"
      },
      "execution_count": null,
      "outputs": [
        {
          "output_type": "stream",
          "name": "stdout",
          "text": [
            "+------------------+\n",
            "|  avg(total_rooms)|\n",
            "+------------------+\n",
            "|2635.7630813953488|\n",
            "+------------------+\n",
            "\n"
          ]
        }
      ]
    },
    {
      "cell_type": "code",
      "source": [
        "from pyspark.sql.functions import mean"
      ],
      "metadata": {
        "id": "ky0C5xocF4eE"
      },
      "execution_count": null,
      "outputs": []
    },
    {
      "cell_type": "code",
      "source": [
        "data.select(*[mean(c) for c in data.columns]).show()"
      ],
      "metadata": {
        "colab": {
          "base_uri": "https://localhost:8080/"
        },
        "id": "2EOtLol_F_Y4",
        "outputId": "7bdcc505-e1e4-45b3-8cc9-3c8d0f8a3ed6"
      },
      "execution_count": null,
      "outputs": [
        {
          "output_type": "stream",
          "name": "stdout",
          "text": [
            "+-------+-------------------+----------------+-----------------------+------------------+-------------------+------------------+-----------------+------------------+-----------------------+--------------------+\n",
            "|avg(id)|     avg(longitude)|   avg(latitude)|avg(housing_median_age)|  avg(total_rooms)|avg(total_bedrooms)|   avg(population)|  avg(households)|avg(median_income)|avg(median_house_value)|avg(ocean_proximity)|\n",
            "+-------+-------------------+----------------+-----------------------+------------------+-------------------+------------------+-----------------+------------------+-----------------------+--------------------+\n",
            "|10319.5|-119.56970445736148|35.6318614341087|     28.639486434108527|2635.7630813953488|  537.8705525375618|1425.4767441860465|499.5396802325581|3.8706710029070246|     206855.81690891474|                NULL|\n",
            "+-------+-------------------+----------------+-----------------------+------------------+-------------------+------------------+-----------------+------------------+-----------------------+--------------------+\n",
            "\n"
          ]
        }
      ]
    },
    {
      "cell_type": "code",
      "source": [
        "data.groupby('ocean_proximity').agg({col:'avg' for col in data.columns[3:-1]}).show()"
      ],
      "metadata": {
        "colab": {
          "base_uri": "https://localhost:8080/"
        },
        "id": "tw0WW9ZXGID2",
        "outputId": "5df279df-b514-41d4-fac2-22110bf5a047"
      },
      "execution_count": null,
      "outputs": [
        {
          "output_type": "stream",
          "name": "stdout",
          "text": [
            "+---------------+------------------+------------------+-------------------+------------------+------------------+-----------------------+-----------------------+\n",
            "|ocean_proximity|   avg(households)|   avg(population)|avg(total_bedrooms)|avg(median_income)|  avg(total_rooms)|avg(median_house_value)|avg(housing_median_age)|\n",
            "+---------------+------------------+------------------+-------------------+------------------+------------------+-----------------------+-----------------------+\n",
            "|         ISLAND|             276.6|             668.0|              420.4|2.7444200000000003|            1574.6|               380440.0|                   42.4|\n",
            "|     NEAR OCEAN|501.24454477050415|1354.0086531226486|  538.6156773211568| 4.005784800601957| 2583.700902934537|     249433.97742663656|     29.347253574115875|\n",
            "|       NEAR BAY| 488.6161572052402|1230.3174672489083|  514.1828193832599| 4.172884759825336| 2493.589519650655|     259212.31179039303|      37.73013100436681|\n",
            "|      <1H OCEAN| 517.7449649737302|1520.2904991243433|  546.5391852999778|4.2306819176882655|2628.3435858143607|     240084.28546409807|     29.279225043782837|\n",
            "|         INLAND|477.44756525721266|1391.0462524805373|  533.8816194581281| 3.208996382231716|2717.7427873607085|     124805.39200122119|      24.27186689055106|\n",
            "+---------------+------------------+------------------+-------------------+------------------+------------------+-----------------------+-----------------------+\n",
            "\n"
          ]
        }
      ]
    },
    {
      "cell_type": "code",
      "source": [
        "from pyspark.sql.types import FloatType\n",
        "from pyspark.sql.functions import udf\n",
        "\n",
        "def squared(value):\n",
        "  return value*value\n",
        "\n",
        "squared_udf = udf(squared, FloatType())"
      ],
      "metadata": {
        "id": "QR3NJYZCGopo"
      },
      "execution_count": null,
      "outputs": []
    },
    {
      "cell_type": "code",
      "source": [
        "data.withColumn('total_rooms_squared', squared_udf('total_rooms')).show()"
      ],
      "metadata": {
        "colab": {
          "base_uri": "https://localhost:8080/"
        },
        "id": "6EG7q4aLHBRN",
        "outputId": "cb4a92e8-057f-4870-8852-63e7fa8ae2fe"
      },
      "execution_count": null,
      "outputs": [
        {
          "output_type": "stream",
          "name": "stdout",
          "text": [
            "+---+---------+--------+------------------+-----------+--------------+----------+----------+-------------+------------------+---------------+-------------------+\n",
            "| id|longitude|latitude|housing_median_age|total_rooms|total_bedrooms|population|households|median_income|median_house_value|ocean_proximity|total_rooms_squared|\n",
            "+---+---------+--------+------------------+-----------+--------------+----------+----------+-------------+------------------+---------------+-------------------+\n",
            "|  0|  -122.23|   37.88|              41.0|      880.0|         129.0|     322.0|     126.0|       8.3252|          452600.0|       NEAR BAY|           774400.0|\n",
            "|  1|  -122.22|   37.86|              21.0|     7099.0|        1106.0|    2401.0|    1138.0|       8.3014|          358500.0|       NEAR BAY|          5.03958E7|\n",
            "|  2|  -122.24|   37.85|              52.0|     1467.0|         190.0|     496.0|     177.0|       7.2574|          352100.0|       NEAR BAY|          2152089.0|\n",
            "|  3|  -122.25|   37.85|              52.0|     1274.0|         235.0|     558.0|     219.0|       5.6431|          341300.0|       NEAR BAY|          1623076.0|\n",
            "|  4|  -122.25|   37.85|              52.0|     1627.0|         280.0|     565.0|     259.0|       3.8462|          342200.0|       NEAR BAY|          2647129.0|\n",
            "|  5|  -122.25|   37.85|              52.0|      919.0|         213.0|     413.0|     193.0|       4.0368|          269700.0|       NEAR BAY|           844561.0|\n",
            "|  6|  -122.25|   37.84|              52.0|     2535.0|         489.0|    1094.0|     514.0|       3.6591|          299200.0|       NEAR BAY|          6426225.0|\n",
            "|  7|  -122.25|   37.84|              52.0|     3104.0|         687.0|    1157.0|     647.0|         3.12|          241400.0|       NEAR BAY|          9634816.0|\n",
            "|  8|  -122.26|   37.84|              42.0|     2555.0|         665.0|    1206.0|     595.0|       2.0804|          226700.0|       NEAR BAY|          6528025.0|\n",
            "|  9|  -122.25|   37.84|              52.0|     3549.0|         707.0|    1551.0|     714.0|       3.6912|          261100.0|       NEAR BAY|        1.2595401E7|\n",
            "| 10|  -122.26|   37.85|              52.0|     2202.0|         434.0|     910.0|     402.0|       3.2031|          281500.0|       NEAR BAY|          4848804.0|\n",
            "| 11|  -122.26|   37.85|              52.0|     3503.0|         752.0|    1504.0|     734.0|       3.2705|          241800.0|       NEAR BAY|        1.2271009E7|\n",
            "| 12|  -122.26|   37.85|              52.0|     2491.0|         474.0|    1098.0|     468.0|        3.075|          213500.0|       NEAR BAY|          6205081.0|\n",
            "| 13|  -122.26|   37.84|              52.0|      696.0|         191.0|     345.0|     174.0|       2.6736|          191300.0|       NEAR BAY|           484416.0|\n",
            "| 14|  -122.26|   37.85|              52.0|     2643.0|         626.0|    1212.0|     620.0|       1.9167|          159200.0|       NEAR BAY|          6985449.0|\n",
            "| 15|  -122.26|   37.85|              50.0|     1120.0|         283.0|     697.0|     264.0|        2.125|          140000.0|       NEAR BAY|          1254400.0|\n",
            "| 16|  -122.27|   37.85|              52.0|     1966.0|         347.0|     793.0|     331.0|        2.775|          152500.0|       NEAR BAY|          3865156.0|\n",
            "| 17|  -122.27|   37.85|              52.0|     1228.0|         293.0|     648.0|     303.0|       2.1202|          155500.0|       NEAR BAY|          1507984.0|\n",
            "| 18|  -122.26|   37.84|              50.0|     2239.0|         455.0|     990.0|     419.0|       1.9911|          158700.0|       NEAR BAY|          5013121.0|\n",
            "| 19|  -122.27|   37.84|              52.0|     1503.0|         298.0|     690.0|     275.0|       2.6033|          162900.0|       NEAR BAY|          2259009.0|\n",
            "+---+---------+--------+------------------+-----------+--------------+----------+----------+-------------+------------------+---------------+-------------------+\n",
            "only showing top 20 rows\n",
            "\n"
          ]
        }
      ]
    },
    {
      "cell_type": "code",
      "source": [
        "train,test = data.randomSplit([0.7,0.3])\n",
        "\n",
        "train,test"
      ],
      "metadata": {
        "colab": {
          "base_uri": "https://localhost:8080/"
        },
        "id": "jHRxhf5cHOOo",
        "outputId": "3f007fbc-111b-4da1-e266-6603664d34ac"
      },
      "execution_count": null,
      "outputs": [
        {
          "output_type": "execute_result",
          "data": {
            "text/plain": [
              "(DataFrame[id: bigint, longitude: double, latitude: double, housing_median_age: double, total_rooms: double, total_bedrooms: double, population: double, households: double, median_income: double, median_house_value: double, ocean_proximity: string],\n",
              " DataFrame[id: bigint, longitude: double, latitude: double, housing_median_age: double, total_rooms: double, total_bedrooms: double, population: double, households: double, median_income: double, median_house_value: double, ocean_proximity: string])"
            ]
          },
          "metadata": {},
          "execution_count": 129
        }
      ]
    },
    {
      "cell_type": "code",
      "source": [
        "numerical_features = train.columns\n",
        "numerical_features.remove('ocean_proximity')\n",
        "numerical_features.remove('id')\n",
        "numerical_features.remove('median_house_value')\n",
        "numerical_features"
      ],
      "metadata": {
        "colab": {
          "base_uri": "https://localhost:8080/"
        },
        "id": "7MOwaco-IFSn",
        "outputId": "572eb105-0fd3-4b2c-b114-f9a065e78702"
      },
      "execution_count": null,
      "outputs": [
        {
          "output_type": "execute_result",
          "data": {
            "text/plain": [
              "['longitude',\n",
              " 'latitude',\n",
              " 'housing_median_age',\n",
              " 'total_rooms',\n",
              " 'total_bedrooms',\n",
              " 'population',\n",
              " 'households',\n",
              " 'median_income']"
            ]
          },
          "metadata": {},
          "execution_count": 130
        }
      ]
    },
    {
      "cell_type": "code",
      "source": [
        "from pyspark.ml.feature import Imputer"
      ],
      "metadata": {
        "id": "jxf78wAcIwrz"
      },
      "execution_count": null,
      "outputs": []
    },
    {
      "cell_type": "code",
      "source": [
        "imputer = Imputer(inputCols=numerical_features, outputCols=numerical_features)\n",
        "\n",
        "imputer = imputer.fit(train)\n",
        "train= imputer.transform(train)\n",
        "test = imputer.transform(test)\n",
        "train.show(4)"
      ],
      "metadata": {
        "colab": {
          "base_uri": "https://localhost:8080/"
        },
        "id": "lJwPMo9GJjan",
        "outputId": "be1d4fa5-c90b-490c-cd4e-773ab3d6ccce"
      },
      "execution_count": null,
      "outputs": [
        {
          "output_type": "stream",
          "name": "stdout",
          "text": [
            "+---+---------+--------+------------------+-----------+--------------+----------+----------+-------------+------------------+---------------+\n",
            "| id|longitude|latitude|housing_median_age|total_rooms|total_bedrooms|population|households|median_income|median_house_value|ocean_proximity|\n",
            "+---+---------+--------+------------------+-----------+--------------+----------+----------+-------------+------------------+---------------+\n",
            "|  2|  -122.24|   37.85|              52.0|     1467.0|         190.0|     496.0|     177.0|       7.2574|          352100.0|       NEAR BAY|\n",
            "|  5|  -122.25|   37.85|              52.0|      919.0|         213.0|     413.0|     193.0|       4.0368|          269700.0|       NEAR BAY|\n",
            "|  8|  -122.26|   37.84|              42.0|     2555.0|         665.0|    1206.0|     595.0|       2.0804|          226700.0|       NEAR BAY|\n",
            "| 11|  -122.26|   37.85|              52.0|     3503.0|         752.0|    1504.0|     734.0|       3.2705|          241800.0|       NEAR BAY|\n",
            "+---+---------+--------+------------------+-----------+--------------+----------+----------+-------------+------------------+---------------+\n",
            "only showing top 4 rows\n",
            "\n"
          ]
        }
      ]
    },
    {
      "cell_type": "code",
      "source": [
        "from pyspark.ml.feature import VectorAssembler"
      ],
      "metadata": {
        "id": "rNwZwSY7J2gW"
      },
      "execution_count": null,
      "outputs": []
    },
    {
      "cell_type": "code",
      "source": [
        "numerical_vector_assembler = VectorAssembler(inputCols=numerical_features, outputCol='numerical_feature_vector')"
      ],
      "metadata": {
        "id": "kvZAzQwPKMhj"
      },
      "execution_count": null,
      "outputs": []
    },
    {
      "cell_type": "code",
      "source": [
        "train = numerical_vector_assembler.transform(train)"
      ],
      "metadata": {
        "id": "ZcB_3ubhKeKF"
      },
      "execution_count": null,
      "outputs": []
    },
    {
      "cell_type": "code",
      "source": [
        "test=numerical_vector_assembler.transform(test)"
      ],
      "metadata": {
        "id": "YNzeWOFTKrTH"
      },
      "execution_count": null,
      "outputs": []
    },
    {
      "cell_type": "code",
      "source": [
        "train.show()"
      ],
      "metadata": {
        "colab": {
          "base_uri": "https://localhost:8080/"
        },
        "id": "wHZS3JdbKvd5",
        "outputId": "eb184600-1f04-4647-cf27-3c2d8c5088b1"
      },
      "execution_count": null,
      "outputs": [
        {
          "output_type": "stream",
          "name": "stdout",
          "text": [
            "+---+---------+--------+------------------+-----------+--------------+----------+----------+-------------+------------------+---------------+------------------------+\n",
            "| id|longitude|latitude|housing_median_age|total_rooms|total_bedrooms|population|households|median_income|median_house_value|ocean_proximity|numerical_feature_vector|\n",
            "+---+---------+--------+------------------+-----------+--------------+----------+----------+-------------+------------------+---------------+------------------------+\n",
            "|  2|  -122.24|   37.85|              52.0|     1467.0|         190.0|     496.0|     177.0|       7.2574|          352100.0|       NEAR BAY|    [-122.24,37.85,52...|\n",
            "|  5|  -122.25|   37.85|              52.0|      919.0|         213.0|     413.0|     193.0|       4.0368|          269700.0|       NEAR BAY|    [-122.25,37.85,52...|\n",
            "|  8|  -122.26|   37.84|              42.0|     2555.0|         665.0|    1206.0|     595.0|       2.0804|          226700.0|       NEAR BAY|    [-122.26,37.84,42...|\n",
            "| 11|  -122.26|   37.85|              52.0|     3503.0|         752.0|    1504.0|     734.0|       3.2705|          241800.0|       NEAR BAY|    [-122.26,37.85,52...|\n",
            "| 12|  -122.26|   37.85|              52.0|     2491.0|         474.0|    1098.0|     468.0|        3.075|          213500.0|       NEAR BAY|    [-122.26,37.85,52...|\n",
            "| 13|  -122.26|   37.84|              52.0|      696.0|         191.0|     345.0|     174.0|       2.6736|          191300.0|       NEAR BAY|    [-122.26,37.84,52...|\n",
            "| 17|  -122.27|   37.85|              52.0|     1228.0|         293.0|     648.0|     303.0|       2.1202|          155500.0|       NEAR BAY|    [-122.27,37.85,52...|\n",
            "| 18|  -122.26|   37.84|              50.0|     2239.0|         455.0|     990.0|     419.0|       1.9911|          158700.0|       NEAR BAY|    [-122.26,37.84,50...|\n",
            "| 19|  -122.27|   37.84|              52.0|     1503.0|         298.0|     690.0|     275.0|       2.6033|          162900.0|       NEAR BAY|    [-122.27,37.84,52...|\n",
            "| 20|  -122.27|   37.85|              40.0|      751.0|         184.0|     409.0|     166.0|       1.3578|          147500.0|       NEAR BAY|    [-122.27,37.85,40...|\n",
            "| 21|  -122.27|   37.85|              42.0|     1639.0|         367.0|     929.0|     366.0|       1.7135|          159800.0|       NEAR BAY|    [-122.27,37.85,42...|\n",
            "| 22|  -122.27|   37.84|              52.0|     2436.0|         541.0|    1015.0|     478.0|        1.725|          113900.0|       NEAR BAY|    [-122.27,37.84,52...|\n",
            "| 23|  -122.27|   37.84|              52.0|     1688.0|         337.0|     853.0|     325.0|       2.1806|           99700.0|       NEAR BAY|    [-122.27,37.84,52...|\n",
            "| 24|  -122.27|   37.84|              52.0|     2224.0|         437.0|    1006.0|     422.0|          2.6|          132600.0|       NEAR BAY|    [-122.27,37.84,52...|\n",
            "| 25|  -122.28|   37.85|              41.0|      535.0|         123.0|     317.0|     119.0|       2.4038|          107500.0|       NEAR BAY|    [-122.28,37.85,41...|\n",
            "| 26|  -122.28|   37.85|              49.0|     1130.0|         244.0|     607.0|     239.0|       2.4597|           93800.0|       NEAR BAY|    [-122.28,37.85,49...|\n",
            "| 29|  -122.28|   37.84|              52.0|      729.0|         160.0|     395.0|     155.0|       1.6875|          132000.0|       NEAR BAY|    [-122.28,37.84,52...|\n",
            "| 30|  -122.28|   37.84|              49.0|     1916.0|         447.0|     863.0|     378.0|       1.9274|          122300.0|       NEAR BAY|    [-122.28,37.84,49...|\n",
            "| 31|  -122.28|   37.84|              52.0|     2153.0|         481.0|    1168.0|     441.0|       1.9615|          115200.0|       NEAR BAY|    [-122.28,37.84,52...|\n",
            "| 33|  -122.27|   37.83|              49.0|     1655.0|         366.0|     754.0|     329.0|        1.375|          104900.0|       NEAR BAY|    [-122.27,37.83,49...|\n",
            "+---+---------+--------+------------------+-----------+--------------+----------+----------+-------------+------------------+---------------+------------------------+\n",
            "only showing top 20 rows\n",
            "\n"
          ]
        }
      ]
    },
    {
      "cell_type": "code",
      "source": [
        "train.select('numerical_feature_vector').take(3)"
      ],
      "metadata": {
        "colab": {
          "base_uri": "https://localhost:8080/"
        },
        "id": "LHMNAh6wKxHm",
        "outputId": "744b19e3-cd6c-4780-89cf-3e7c03f952a0"
      },
      "execution_count": null,
      "outputs": [
        {
          "output_type": "execute_result",
          "data": {
            "text/plain": [
              "[Row(numerical_feature_vector=DenseVector([-122.24, 37.85, 52.0, 1467.0, 190.0, 496.0, 177.0, 7.2574])),\n",
              " Row(numerical_feature_vector=DenseVector([-122.25, 37.85, 52.0, 919.0, 213.0, 413.0, 193.0, 4.0368])),\n",
              " Row(numerical_feature_vector=DenseVector([-122.26, 37.84, 42.0, 2555.0, 665.0, 1206.0, 595.0, 2.0804]))]"
            ]
          },
          "metadata": {},
          "execution_count": 138
        }
      ]
    },
    {
      "cell_type": "code",
      "source": [
        "from pyspark.ml.feature import StandardScaler\n",
        "\n",
        "scaler = StandardScaler(inputCol='numerical_feature_vector', outputCol='scaled_numerical_feature_vector', withStd=True, withMean=True)"
      ],
      "metadata": {
        "id": "_6zvtXfgK49S"
      },
      "execution_count": null,
      "outputs": []
    },
    {
      "cell_type": "code",
      "source": [
        "scaler = scaler.fit(train)\n",
        "train = scaler.transform(train)\n",
        "test = scaler.transform(test)\n",
        "train.show(3)"
      ],
      "metadata": {
        "colab": {
          "base_uri": "https://localhost:8080/"
        },
        "id": "YGbfuuSiLeVQ",
        "outputId": "f5f746b2-8dbc-48bf-d0f3-27cd33b163a2"
      },
      "execution_count": null,
      "outputs": [
        {
          "output_type": "stream",
          "name": "stdout",
          "text": [
            "+---+---------+--------+------------------+-----------+--------------+----------+----------+-------------+------------------+---------------+------------------------+-------------------------------+\n",
            "| id|longitude|latitude|housing_median_age|total_rooms|total_bedrooms|population|households|median_income|median_house_value|ocean_proximity|numerical_feature_vector|scaled_numerical_feature_vector|\n",
            "+---+---------+--------+------------------+-----------+--------------+----------+----------+-------------+------------------+---------------+------------------------+-------------------------------+\n",
            "|  2|  -122.24|   37.85|              52.0|     1467.0|         190.0|     496.0|     177.0|       7.2574|          352100.0|       NEAR BAY|    [-122.24,37.85,52...|           [-1.3437361285365...|\n",
            "|  5|  -122.25|   37.85|              52.0|      919.0|         213.0|     413.0|     193.0|       4.0368|          269700.0|       NEAR BAY|    [-122.25,37.85,52...|           [-1.3487354547529...|\n",
            "|  8|  -122.26|   37.84|              42.0|     2555.0|         665.0|    1206.0|     595.0|       2.0804|          226700.0|       NEAR BAY|    [-122.26,37.84,42...|           [-1.3537347809692...|\n",
            "+---+---------+--------+------------------+-----------+--------------+----------+----------+-------------+------------------+---------------+------------------------+-------------------------------+\n",
            "only showing top 3 rows\n",
            "\n"
          ]
        }
      ]
    },
    {
      "cell_type": "code",
      "source": [
        "train.select('scaled_numerical_feature_vector').take(3)"
      ],
      "metadata": {
        "colab": {
          "base_uri": "https://localhost:8080/"
        },
        "id": "SBVm1uqFLx5m",
        "outputId": "33229536-132f-4dec-d53b-3035a7c0ae22"
      },
      "execution_count": null,
      "outputs": [
        {
          "output_type": "execute_result",
          "data": {
            "text/plain": [
              "[Row(scaled_numerical_feature_vector=DenseVector([-1.3437, 1.0478, 1.8533, -0.5268, -0.8198, -0.8059, -0.8365, 1.7906])),\n",
              " Row(scaled_numerical_feature_vector=DenseVector([-1.3487, 1.0478, 1.8533, -0.7759, -0.7654, -0.8782, -0.7948, 0.0929])),\n",
              " Row(scaled_numerical_feature_vector=DenseVector([-1.3537, 1.0431, 1.0583, -0.0324, 0.3028, -0.1876, 0.2523, -0.9384]))]"
            ]
          },
          "metadata": {},
          "execution_count": 141
        }
      ]
    },
    {
      "cell_type": "code",
      "source": [
        "from pyspark.ml.feature import StringIndexer\n",
        "\n",
        "indexer=StringIndexer(inputCol='ocean_proximity', outputCol='ocean_category_index')\n",
        "\n",
        "indexer=indexer.fit(train)\n",
        "train=indexer.transform(train)\n",
        "test = indexer.transform(test)\n",
        "\n",
        "train.show(3)"
      ],
      "metadata": {
        "colab": {
          "base_uri": "https://localhost:8080/"
        },
        "id": "tTI2L02JL4nP",
        "outputId": "9080c050-7ac2-454b-c1dd-8a6ac78515b0"
      },
      "execution_count": null,
      "outputs": [
        {
          "output_type": "stream",
          "name": "stdout",
          "text": [
            "+---+---------+--------+------------------+-----------+--------------+----------+----------+-------------+------------------+---------------+------------------------+-------------------------------+--------------------+\n",
            "| id|longitude|latitude|housing_median_age|total_rooms|total_bedrooms|population|households|median_income|median_house_value|ocean_proximity|numerical_feature_vector|scaled_numerical_feature_vector|ocean_category_index|\n",
            "+---+---------+--------+------------------+-----------+--------------+----------+----------+-------------+------------------+---------------+------------------------+-------------------------------+--------------------+\n",
            "|  2|  -122.24|   37.85|              52.0|     1467.0|         190.0|     496.0|     177.0|       7.2574|          352100.0|       NEAR BAY|    [-122.24,37.85,52...|           [-1.3437361285365...|                 3.0|\n",
            "|  5|  -122.25|   37.85|              52.0|      919.0|         213.0|     413.0|     193.0|       4.0368|          269700.0|       NEAR BAY|    [-122.25,37.85,52...|           [-1.3487354547529...|                 3.0|\n",
            "|  8|  -122.26|   37.84|              42.0|     2555.0|         665.0|    1206.0|     595.0|       2.0804|          226700.0|       NEAR BAY|    [-122.26,37.84,42...|           [-1.3537347809692...|                 3.0|\n",
            "+---+---------+--------+------------------+-----------+--------------+----------+----------+-------------+------------------+---------------+------------------------+-------------------------------+--------------------+\n",
            "only showing top 3 rows\n",
            "\n"
          ]
        }
      ]
    },
    {
      "cell_type": "code",
      "source": [
        "set(train.select('ocean_category_index').collect())"
      ],
      "metadata": {
        "colab": {
          "base_uri": "https://localhost:8080/"
        },
        "id": "ovbghc0AMDhc",
        "outputId": "3a3afb4a-f107-4a17-dfe9-b174e3c4bbe7"
      },
      "execution_count": null,
      "outputs": [
        {
          "output_type": "execute_result",
          "data": {
            "text/plain": [
              "{Row(ocean_category_index=0.0),\n",
              " Row(ocean_category_index=1.0),\n",
              " Row(ocean_category_index=2.0),\n",
              " Row(ocean_category_index=3.0),\n",
              " Row(ocean_category_index=4.0)}"
            ]
          },
          "metadata": {},
          "execution_count": 143
        }
      ]
    },
    {
      "cell_type": "code",
      "source": [
        "from pyspark.ml.feature import OneHotEncoder\n",
        "\n",
        "encoder = OneHotEncoder(inputCol='ocean_category_index', outputCol = 'ocean_category_hot')\n",
        "\n",
        "encoder = encoder.fit(train)\n",
        "train=encoder.transform(train)\n",
        "test=encoder.transform(test)\n",
        "train.show(3)"
      ],
      "metadata": {
        "colab": {
          "base_uri": "https://localhost:8080/"
        },
        "id": "ziK3kwQ9Mizg",
        "outputId": "243b5a42-9a71-4ebe-db89-aa422a489a5a"
      },
      "execution_count": null,
      "outputs": [
        {
          "output_type": "stream",
          "name": "stdout",
          "text": [
            "+---+---------+--------+------------------+-----------+--------------+----------+----------+-------------+------------------+---------------+------------------------+-------------------------------+--------------------+------------------+\n",
            "| id|longitude|latitude|housing_median_age|total_rooms|total_bedrooms|population|households|median_income|median_house_value|ocean_proximity|numerical_feature_vector|scaled_numerical_feature_vector|ocean_category_index|ocean_category_hot|\n",
            "+---+---------+--------+------------------+-----------+--------------+----------+----------+-------------+------------------+---------------+------------------------+-------------------------------+--------------------+------------------+\n",
            "|  2|  -122.24|   37.85|              52.0|     1467.0|         190.0|     496.0|     177.0|       7.2574|          352100.0|       NEAR BAY|    [-122.24,37.85,52...|           [-1.3437361285365...|                 3.0|     (4,[3],[1.0])|\n",
            "|  5|  -122.25|   37.85|              52.0|      919.0|         213.0|     413.0|     193.0|       4.0368|          269700.0|       NEAR BAY|    [-122.25,37.85,52...|           [-1.3487354547529...|                 3.0|     (4,[3],[1.0])|\n",
            "|  8|  -122.26|   37.84|              42.0|     2555.0|         665.0|    1206.0|     595.0|       2.0804|          226700.0|       NEAR BAY|    [-122.26,37.84,42...|           [-1.3537347809692...|                 3.0|     (4,[3],[1.0])|\n",
            "+---+---------+--------+------------------+-----------+--------------+----------+----------+-------------+------------------+---------------+------------------------+-------------------------------+--------------------+------------------+\n",
            "only showing top 3 rows\n",
            "\n"
          ]
        }
      ]
    },
    {
      "cell_type": "code",
      "source": [
        "assembler = VectorAssembler(inputCols=['scaled_numerical_feature_vector', 'ocean_category_hot'], outputCol = 'final_feature_vector')"
      ],
      "metadata": {
        "id": "oqEZL7lYNBlt"
      },
      "execution_count": null,
      "outputs": []
    },
    {
      "cell_type": "code",
      "source": [
        "train = assembler.transform(train)\n",
        "test = assembler.transform(test)\n",
        "train.show(2)"
      ],
      "metadata": {
        "colab": {
          "base_uri": "https://localhost:8080/"
        },
        "id": "2TVf0UPJNky2",
        "outputId": "bed5c91d-b440-4f0f-aa2c-d4fa9a2ccda0"
      },
      "execution_count": null,
      "outputs": [
        {
          "output_type": "stream",
          "name": "stdout",
          "text": [
            "+---+---------+--------+------------------+-----------+--------------+----------+----------+-------------+------------------+---------------+------------------------+-------------------------------+--------------------+------------------+--------------------+\n",
            "| id|longitude|latitude|housing_median_age|total_rooms|total_bedrooms|population|households|median_income|median_house_value|ocean_proximity|numerical_feature_vector|scaled_numerical_feature_vector|ocean_category_index|ocean_category_hot|final_feature_vector|\n",
            "+---+---------+--------+------------------+-----------+--------------+----------+----------+-------------+------------------+---------------+------------------------+-------------------------------+--------------------+------------------+--------------------+\n",
            "|  2|  -122.24|   37.85|              52.0|     1467.0|         190.0|     496.0|     177.0|       7.2574|          352100.0|       NEAR BAY|    [-122.24,37.85,52...|           [-1.3437361285365...|                 3.0|     (4,[3],[1.0])|[-1.3437361285365...|\n",
            "|  5|  -122.25|   37.85|              52.0|      919.0|         213.0|     413.0|     193.0|       4.0368|          269700.0|       NEAR BAY|    [-122.25,37.85,52...|           [-1.3487354547529...|                 3.0|     (4,[3],[1.0])|[-1.3487354547529...|\n",
            "+---+---------+--------+------------------+-----------+--------------+----------+----------+-------------+------------------+---------------+------------------------+-------------------------------+--------------------+------------------+--------------------+\n",
            "only showing top 2 rows\n",
            "\n"
          ]
        }
      ]
    },
    {
      "cell_type": "code",
      "source": [
        "train.select('final_feature_vector').take(2)"
      ],
      "metadata": {
        "colab": {
          "base_uri": "https://localhost:8080/"
        },
        "id": "KcOW9glGNyAo",
        "outputId": "5902e994-aad1-4e2f-c324-67c05e4069cc"
      },
      "execution_count": null,
      "outputs": [
        {
          "output_type": "execute_result",
          "data": {
            "text/plain": [
              "[Row(final_feature_vector=DenseVector([-1.3437, 1.0478, 1.8533, -0.5268, -0.8198, -0.8059, -0.8365, 1.7906, 0.0, 0.0, 0.0, 1.0])),\n",
              " Row(final_feature_vector=DenseVector([-1.3487, 1.0478, 1.8533, -0.7759, -0.7654, -0.8782, -0.7948, 0.0929, 0.0, 0.0, 0.0, 1.0]))]"
            ]
          },
          "metadata": {},
          "execution_count": 147
        }
      ]
    },
    {
      "cell_type": "code",
      "source": [
        "from pyspark.ml.regression import LinearRegression\n",
        "\n",
        "lr = LinearRegression(featuresCol='final_feature_vector', labelCol='median_house_value')"
      ],
      "metadata": {
        "id": "T2cBJZ8VN6HE"
      },
      "execution_count": null,
      "outputs": []
    },
    {
      "cell_type": "code",
      "source": [
        "lr=lr.fit(train)\n",
        "predict_data = lr.transform(train).withColumnRenamed('prediction','predicted_median_house')\n",
        "predict_data.show()"
      ],
      "metadata": {
        "colab": {
          "base_uri": "https://localhost:8080/"
        },
        "id": "L8cu-Vk_OUyM",
        "outputId": "937ffece-207a-4ed7-c998-d93430884545"
      },
      "execution_count": null,
      "outputs": [
        {
          "output_type": "stream",
          "name": "stdout",
          "text": [
            "+---+---------+--------+------------------+-----------+--------------+----------+----------+-------------+------------------+---------------+------------------------+-------------------------------+--------------------+------------------+--------------------+----------------------+\n",
            "| id|longitude|latitude|housing_median_age|total_rooms|total_bedrooms|population|households|median_income|median_house_value|ocean_proximity|numerical_feature_vector|scaled_numerical_feature_vector|ocean_category_index|ocean_category_hot|final_feature_vector|predicted_median_house|\n",
            "+---+---------+--------+------------------+-----------+--------------+----------+----------+-------------+------------------+---------------+------------------------+-------------------------------+--------------------+------------------+--------------------+----------------------+\n",
            "|  2|  -122.24|   37.85|              52.0|     1467.0|         190.0|     496.0|     177.0|       7.2574|          352100.0|       NEAR BAY|    [-122.24,37.85,52...|           [-1.3437361285365...|                 3.0|     (4,[3],[1.0])|[-1.3437361285365...|     378469.6684971425|\n",
            "|  5|  -122.25|   37.85|              52.0|      919.0|         213.0|     413.0|     193.0|       4.0368|          269700.0|       NEAR BAY|    [-122.25,37.85,52...|           [-1.3487354547529...|                 3.0|     (4,[3],[1.0])|[-1.3487354547529...|      262849.551594484|\n",
            "|  8|  -122.26|   37.84|              42.0|     2555.0|         665.0|    1206.0|     595.0|       2.0804|          226700.0|       NEAR BAY|    [-122.26,37.84,42...|           [-1.3537347809692...|                 3.0|     (4,[3],[1.0])|[-1.3537347809692...|    201634.92223626812|\n",
            "| 11|  -122.26|   37.85|              52.0|     3503.0|         752.0|    1504.0|     734.0|       3.2705|          241800.0|       NEAR BAY|    [-122.26,37.85,52...|           [-1.3537347809692...|                 3.0|     (4,[3],[1.0])|[-1.3537347809692...|    258046.69267180344|\n",
            "| 12|  -122.26|   37.85|              52.0|     2491.0|         474.0|    1098.0|     468.0|        3.075|          213500.0|       NEAR BAY|    [-122.26,37.85,52...|           [-1.3537347809692...|                 3.0|     (4,[3],[1.0])|[-1.3537347809692...|    231030.44134459595|\n",
            "| 13|  -122.26|   37.84|              52.0|      696.0|         191.0|     345.0|     174.0|       2.6736|          191300.0|       NEAR BAY|    [-122.26,37.84,52...|           [-1.3537347809692...|                 3.0|     (4,[3],[1.0])|[-1.3537347809692...|    211197.19594071413|\n",
            "| 17|  -122.27|   37.85|              52.0|     1228.0|         293.0|     648.0|     303.0|       2.1202|          155500.0|       NEAR BAY|    [-122.27,37.85,52...|           [-1.3587341071856...|                 3.0|     (4,[3],[1.0])|[-1.3587341071856...|    192409.20453438908|\n",
            "| 18|  -122.26|   37.84|              50.0|     2239.0|         455.0|     990.0|     419.0|       1.9911|          158700.0|       NEAR BAY|    [-122.26,37.84,50...|           [-1.3537347809692...|                 3.0|     (4,[3],[1.0])|[-1.3537347809692...|      187701.214236231|\n",
            "| 19|  -122.27|   37.84|              52.0|     1503.0|         298.0|     690.0|     275.0|       2.6033|          162900.0|       NEAR BAY|    [-122.27,37.84,52...|           [-1.3587341071856...|                 3.0|     (4,[3],[1.0])|[-1.3587341071856...|     206779.4670111055|\n",
            "| 20|  -122.27|   37.85|              40.0|      751.0|         184.0|     409.0|     166.0|       1.3578|          147500.0|       NEAR BAY|    [-122.27,37.85,40...|           [-1.3587341071856...|                 3.0|     (4,[3],[1.0])|[-1.3587341071856...|     143842.3503180225|\n",
            "| 21|  -122.27|   37.85|              42.0|     1639.0|         367.0|     929.0|     366.0|       1.7135|          159800.0|       NEAR BAY|    [-122.27,37.85,42...|           [-1.3587341071856...|                 3.0|     (4,[3],[1.0])|[-1.3587341071856...|    163607.31424991152|\n",
            "| 22|  -122.27|   37.84|              52.0|     2436.0|         541.0|    1015.0|     478.0|        1.725|          113900.0|       NEAR BAY|    [-122.27,37.84,52...|           [-1.3587341071856...|                 3.0|     (4,[3],[1.0])|[-1.3587341071856...|     188526.0351211264|\n",
            "| 23|  -122.27|   37.84|              52.0|     1688.0|         337.0|     853.0|     325.0|       2.1806|           99700.0|       NEAR BAY|    [-122.27,37.84,52...|           [-1.3587341071856...|                 3.0|     (4,[3],[1.0])|[-1.3587341071856...|    189801.52731969865|\n",
            "| 24|  -122.27|   37.84|              52.0|     2224.0|         437.0|    1006.0|     422.0|          2.6|          132600.0|       NEAR BAY|    [-122.27,37.84,52...|           [-1.3587341071856...|                 3.0|     (4,[3],[1.0])|[-1.3587341071856...|    211933.61855555564|\n",
            "| 25|  -122.28|   37.85|              41.0|      535.0|         123.0|     317.0|     119.0|       2.4038|          107500.0|       NEAR BAY|    [-122.28,37.85,41...|           [-1.3637334334019...|                 3.0|     (4,[3],[1.0])|[-1.3637334334019...|     182296.3510845847|\n",
            "| 26|  -122.28|   37.85|              49.0|     1130.0|         244.0|     607.0|     239.0|       2.4597|           93800.0|       NEAR BAY|    [-122.28,37.85,49...|           [-1.3637334334019...|                 3.0|     (4,[3],[1.0])|[-1.3637334334019...|    196514.80584466038|\n",
            "| 29|  -122.28|   37.84|              52.0|      729.0|         160.0|     395.0|     155.0|       1.6875|          132000.0|       NEAR BAY|    [-122.28,37.84,52...|           [-1.3637334334019...|                 3.0|     (4,[3],[1.0])|[-1.3637334334019...|    167667.92307368972|\n",
            "| 30|  -122.28|   37.84|              49.0|     1916.0|         447.0|     863.0|     378.0|       1.9274|          122300.0|       NEAR BAY|    [-122.28,37.84,49...|           [-1.3637334334019...|                 3.0|     (4,[3],[1.0])|[-1.3637334334019...|    187767.60618038394|\n",
            "| 31|  -122.28|   37.84|              52.0|     2153.0|         481.0|    1168.0|     441.0|       1.9615|          115200.0|       NEAR BAY|    [-122.28,37.84,52...|           [-1.3637334334019...|                 3.0|     (4,[3],[1.0])|[-1.3637334334019...|    186577.08524826413|\n",
            "| 33|  -122.27|   37.83|              49.0|     1655.0|         366.0|     754.0|     329.0|        1.375|          104900.0|       NEAR BAY|    [-122.27,37.83,49...|           [-1.3587341071856...|                 3.0|     (4,[3],[1.0])|[-1.3587341071856...|     162080.5416275926|\n",
            "+---+---------+--------+------------------+-----------+--------------+----------+----------+-------------+------------------+---------------+------------------------+-------------------------------+--------------------+------------------+--------------------+----------------------+\n",
            "only showing top 20 rows\n",
            "\n"
          ]
        }
      ]
    },
    {
      "cell_type": "code",
      "source": [
        "pred_test_data = lr.transform(test).withColumnRenamed('prediction','predicted_median_house')\n",
        "pred_test_data.show(5)"
      ],
      "metadata": {
        "id": "DnZKyGGrOfJ6",
        "colab": {
          "base_uri": "https://localhost:8080/"
        },
        "outputId": "8a0c1ecf-9584-4b14-bd27-69c02bfdd3d0"
      },
      "execution_count": null,
      "outputs": [
        {
          "output_type": "stream",
          "name": "stdout",
          "text": [
            "+---+---------+--------+------------------+-----------+--------------+----------+----------+-------------+------------------+---------------+------------------------+-------------------------------+--------------------+------------------+--------------------+----------------------+\n",
            "| id|longitude|latitude|housing_median_age|total_rooms|total_bedrooms|population|households|median_income|median_house_value|ocean_proximity|numerical_feature_vector|scaled_numerical_feature_vector|ocean_category_index|ocean_category_hot|final_feature_vector|predicted_median_house|\n",
            "+---+---------+--------+------------------+-----------+--------------+----------+----------+-------------+------------------+---------------+------------------------+-------------------------------+--------------------+------------------+--------------------+----------------------+\n",
            "|  0|  -122.23|   37.88|              41.0|      880.0|         129.0|     322.0|     126.0|       8.3252|          452600.0|       NEAR BAY|    [-122.23,37.88,41...|           [-1.3387368023202...|                 3.0|     (4,[3],[1.0])|[-1.3387368023202...|    408829.91893564846|\n",
            "|  1|  -122.22|   37.86|              21.0|     7099.0|        1106.0|    2401.0|    1138.0|       8.3014|          358500.0|       NEAR BAY|    [-122.22,37.86,21...|           [-1.3337374761038...|                 3.0|     (4,[3],[1.0])|[-1.3337374761038...|    421759.32749554457|\n",
            "|  3|  -122.25|   37.85|              52.0|     1274.0|         235.0|     558.0|     219.0|       5.6431|          341300.0|       NEAR BAY|    [-122.25,37.85,52...|           [-1.3487354547529...|                 3.0|     (4,[3],[1.0])|[-1.3487354547529...|      321307.053545271|\n",
            "|  4|  -122.25|   37.85|              52.0|     1627.0|         280.0|     565.0|     259.0|       3.8462|          342200.0|       NEAR BAY|    [-122.25,37.85,52...|           [-1.3487354547529...|                 3.0|     (4,[3],[1.0])|[-1.3487354547529...|    255677.95460671268|\n",
            "|  6|  -122.25|   37.84|              52.0|     2535.0|         489.0|    1094.0|     514.0|       3.6591|          299200.0|       NEAR BAY|    [-122.25,37.84,52...|           [-1.3487354547529...|                 3.0|     (4,[3],[1.0])|[-1.3487354547529...|    257902.64809158634|\n",
            "+---+---------+--------+------------------+-----------+--------------+----------+----------+-------------+------------------+---------------+------------------------+-------------------------------+--------------------+------------------+--------------------+----------------------+\n",
            "only showing top 5 rows\n",
            "\n"
          ]
        }
      ]
    },
    {
      "cell_type": "code",
      "source": [
        "prediction_test_data = pred_test_data.toPandas()\n",
        "prediction_test_data.head(2)"
      ],
      "metadata": {
        "id": "KQYBYanqPXUB",
        "colab": {
          "base_uri": "https://localhost:8080/",
          "height": 201
        },
        "outputId": "d49f5654-bd7e-47a1-9f42-4916cd882930"
      },
      "execution_count": null,
      "outputs": [
        {
          "output_type": "execute_result",
          "data": {
            "text/plain": [
              "   id  longitude  latitude  housing_median_age  total_rooms  total_bedrooms  \\\n",
              "0   0    -122.23     37.88                41.0        880.0           129.0   \n",
              "1   1    -122.22     37.86                21.0       7099.0          1106.0   \n",
              "\n",
              "   population  households  median_income  median_house_value ocean_proximity  \\\n",
              "0       322.0       126.0         8.3252            452600.0        NEAR BAY   \n",
              "1      2401.0      1138.0         8.3014            358500.0        NEAR BAY   \n",
              "\n",
              "                            numerical_feature_vector  \\\n",
              "0  [-122.23, 37.88, 41.0, 880.0, 129.0, 322.0, 12...   \n",
              "1  [-122.22, 37.86, 21.0, 7099.0, 1106.0, 2401.0,...   \n",
              "\n",
              "                     scaled_numerical_feature_vector  ocean_category_index  \\\n",
              "0  [-1.338736802320229, 1.0618588154956763, 0.978...                   3.0   \n",
              "1  [-1.3337374761038825, 1.0524825587105324, -0.6...                   3.0   \n",
              "\n",
              "     ocean_category_hot                               final_feature_vector  \\\n",
              "0  (0.0, 0.0, 0.0, 1.0)  [-1.338736802320229, 1.0618588154956763, 0.978...   \n",
              "1  (0.0, 0.0, 0.0, 1.0)  [-1.3337374761038825, 1.0524825587105324, -0.6...   \n",
              "\n",
              "   predicted_median_house  \n",
              "0           408829.918936  \n",
              "1           421759.327496  "
            ],
            "text/html": [
              "\n",
              "  <div id=\"df-27313fb1-d3de-4a95-a1dc-21614b971c55\" class=\"colab-df-container\">\n",
              "    <div>\n",
              "<style scoped>\n",
              "    .dataframe tbody tr th:only-of-type {\n",
              "        vertical-align: middle;\n",
              "    }\n",
              "\n",
              "    .dataframe tbody tr th {\n",
              "        vertical-align: top;\n",
              "    }\n",
              "\n",
              "    .dataframe thead th {\n",
              "        text-align: right;\n",
              "    }\n",
              "</style>\n",
              "<table border=\"1\" class=\"dataframe\">\n",
              "  <thead>\n",
              "    <tr style=\"text-align: right;\">\n",
              "      <th></th>\n",
              "      <th>id</th>\n",
              "      <th>longitude</th>\n",
              "      <th>latitude</th>\n",
              "      <th>housing_median_age</th>\n",
              "      <th>total_rooms</th>\n",
              "      <th>total_bedrooms</th>\n",
              "      <th>population</th>\n",
              "      <th>households</th>\n",
              "      <th>median_income</th>\n",
              "      <th>median_house_value</th>\n",
              "      <th>ocean_proximity</th>\n",
              "      <th>numerical_feature_vector</th>\n",
              "      <th>scaled_numerical_feature_vector</th>\n",
              "      <th>ocean_category_index</th>\n",
              "      <th>ocean_category_hot</th>\n",
              "      <th>final_feature_vector</th>\n",
              "      <th>predicted_median_house</th>\n",
              "    </tr>\n",
              "  </thead>\n",
              "  <tbody>\n",
              "    <tr>\n",
              "      <th>0</th>\n",
              "      <td>0</td>\n",
              "      <td>-122.23</td>\n",
              "      <td>37.88</td>\n",
              "      <td>41.0</td>\n",
              "      <td>880.0</td>\n",
              "      <td>129.0</td>\n",
              "      <td>322.0</td>\n",
              "      <td>126.0</td>\n",
              "      <td>8.3252</td>\n",
              "      <td>452600.0</td>\n",
              "      <td>NEAR BAY</td>\n",
              "      <td>[-122.23, 37.88, 41.0, 880.0, 129.0, 322.0, 12...</td>\n",
              "      <td>[-1.338736802320229, 1.0618588154956763, 0.978...</td>\n",
              "      <td>3.0</td>\n",
              "      <td>(0.0, 0.0, 0.0, 1.0)</td>\n",
              "      <td>[-1.338736802320229, 1.0618588154956763, 0.978...</td>\n",
              "      <td>408829.918936</td>\n",
              "    </tr>\n",
              "    <tr>\n",
              "      <th>1</th>\n",
              "      <td>1</td>\n",
              "      <td>-122.22</td>\n",
              "      <td>37.86</td>\n",
              "      <td>21.0</td>\n",
              "      <td>7099.0</td>\n",
              "      <td>1106.0</td>\n",
              "      <td>2401.0</td>\n",
              "      <td>1138.0</td>\n",
              "      <td>8.3014</td>\n",
              "      <td>358500.0</td>\n",
              "      <td>NEAR BAY</td>\n",
              "      <td>[-122.22, 37.86, 21.0, 7099.0, 1106.0, 2401.0,...</td>\n",
              "      <td>[-1.3337374761038825, 1.0524825587105324, -0.6...</td>\n",
              "      <td>3.0</td>\n",
              "      <td>(0.0, 0.0, 0.0, 1.0)</td>\n",
              "      <td>[-1.3337374761038825, 1.0524825587105324, -0.6...</td>\n",
              "      <td>421759.327496</td>\n",
              "    </tr>\n",
              "  </tbody>\n",
              "</table>\n",
              "</div>\n",
              "    <div class=\"colab-df-buttons\">\n",
              "\n",
              "  <div class=\"colab-df-container\">\n",
              "    <button class=\"colab-df-convert\" onclick=\"convertToInteractive('df-27313fb1-d3de-4a95-a1dc-21614b971c55')\"\n",
              "            title=\"Convert this dataframe to an interactive table.\"\n",
              "            style=\"display:none;\">\n",
              "\n",
              "  <svg xmlns=\"http://www.w3.org/2000/svg\" height=\"24px\" viewBox=\"0 -960 960 960\">\n",
              "    <path d=\"M120-120v-720h720v720H120Zm60-500h600v-160H180v160Zm220 220h160v-160H400v160Zm0 220h160v-160H400v160ZM180-400h160v-160H180v160Zm440 0h160v-160H620v160ZM180-180h160v-160H180v160Zm440 0h160v-160H620v160Z\"/>\n",
              "  </svg>\n",
              "    </button>\n",
              "\n",
              "  <style>\n",
              "    .colab-df-container {\n",
              "      display:flex;\n",
              "      gap: 12px;\n",
              "    }\n",
              "\n",
              "    .colab-df-convert {\n",
              "      background-color: #E8F0FE;\n",
              "      border: none;\n",
              "      border-radius: 50%;\n",
              "      cursor: pointer;\n",
              "      display: none;\n",
              "      fill: #1967D2;\n",
              "      height: 32px;\n",
              "      padding: 0 0 0 0;\n",
              "      width: 32px;\n",
              "    }\n",
              "\n",
              "    .colab-df-convert:hover {\n",
              "      background-color: #E2EBFA;\n",
              "      box-shadow: 0px 1px 2px rgba(60, 64, 67, 0.3), 0px 1px 3px 1px rgba(60, 64, 67, 0.15);\n",
              "      fill: #174EA6;\n",
              "    }\n",
              "\n",
              "    .colab-df-buttons div {\n",
              "      margin-bottom: 4px;\n",
              "    }\n",
              "\n",
              "    [theme=dark] .colab-df-convert {\n",
              "      background-color: #3B4455;\n",
              "      fill: #D2E3FC;\n",
              "    }\n",
              "\n",
              "    [theme=dark] .colab-df-convert:hover {\n",
              "      background-color: #434B5C;\n",
              "      box-shadow: 0px 1px 3px 1px rgba(0, 0, 0, 0.15);\n",
              "      filter: drop-shadow(0px 1px 2px rgba(0, 0, 0, 0.3));\n",
              "      fill: #FFFFFF;\n",
              "    }\n",
              "  </style>\n",
              "\n",
              "    <script>\n",
              "      const buttonEl =\n",
              "        document.querySelector('#df-27313fb1-d3de-4a95-a1dc-21614b971c55 button.colab-df-convert');\n",
              "      buttonEl.style.display =\n",
              "        google.colab.kernel.accessAllowed ? 'block' : 'none';\n",
              "\n",
              "      async function convertToInteractive(key) {\n",
              "        const element = document.querySelector('#df-27313fb1-d3de-4a95-a1dc-21614b971c55');\n",
              "        const dataTable =\n",
              "          await google.colab.kernel.invokeFunction('convertToInteractive',\n",
              "                                                    [key], {});\n",
              "        if (!dataTable) return;\n",
              "\n",
              "        const docLinkHtml = 'Like what you see? Visit the ' +\n",
              "          '<a target=\"_blank\" href=https://colab.research.google.com/notebooks/data_table.ipynb>data table notebook</a>'\n",
              "          + ' to learn more about interactive tables.';\n",
              "        element.innerHTML = '';\n",
              "        dataTable['output_type'] = 'display_data';\n",
              "        await google.colab.output.renderOutput(dataTable, element);\n",
              "        const docLink = document.createElement('div');\n",
              "        docLink.innerHTML = docLinkHtml;\n",
              "        element.appendChild(docLink);\n",
              "      }\n",
              "    </script>\n",
              "  </div>\n",
              "\n",
              "\n",
              "<div id=\"df-c690e80a-b611-4107-9a84-1002408cf06d\">\n",
              "  <button class=\"colab-df-quickchart\" onclick=\"quickchart('df-c690e80a-b611-4107-9a84-1002408cf06d')\"\n",
              "            title=\"Suggest charts\"\n",
              "            style=\"display:none;\">\n",
              "\n",
              "<svg xmlns=\"http://www.w3.org/2000/svg\" height=\"24px\"viewBox=\"0 0 24 24\"\n",
              "     width=\"24px\">\n",
              "    <g>\n",
              "        <path d=\"M19 3H5c-1.1 0-2 .9-2 2v14c0 1.1.9 2 2 2h14c1.1 0 2-.9 2-2V5c0-1.1-.9-2-2-2zM9 17H7v-7h2v7zm4 0h-2V7h2v10zm4 0h-2v-4h2v4z\"/>\n",
              "    </g>\n",
              "</svg>\n",
              "  </button>\n",
              "\n",
              "<style>\n",
              "  .colab-df-quickchart {\n",
              "      --bg-color: #E8F0FE;\n",
              "      --fill-color: #1967D2;\n",
              "      --hover-bg-color: #E2EBFA;\n",
              "      --hover-fill-color: #174EA6;\n",
              "      --disabled-fill-color: #AAA;\n",
              "      --disabled-bg-color: #DDD;\n",
              "  }\n",
              "\n",
              "  [theme=dark] .colab-df-quickchart {\n",
              "      --bg-color: #3B4455;\n",
              "      --fill-color: #D2E3FC;\n",
              "      --hover-bg-color: #434B5C;\n",
              "      --hover-fill-color: #FFFFFF;\n",
              "      --disabled-bg-color: #3B4455;\n",
              "      --disabled-fill-color: #666;\n",
              "  }\n",
              "\n",
              "  .colab-df-quickchart {\n",
              "    background-color: var(--bg-color);\n",
              "    border: none;\n",
              "    border-radius: 50%;\n",
              "    cursor: pointer;\n",
              "    display: none;\n",
              "    fill: var(--fill-color);\n",
              "    height: 32px;\n",
              "    padding: 0;\n",
              "    width: 32px;\n",
              "  }\n",
              "\n",
              "  .colab-df-quickchart:hover {\n",
              "    background-color: var(--hover-bg-color);\n",
              "    box-shadow: 0 1px 2px rgba(60, 64, 67, 0.3), 0 1px 3px 1px rgba(60, 64, 67, 0.15);\n",
              "    fill: var(--button-hover-fill-color);\n",
              "  }\n",
              "\n",
              "  .colab-df-quickchart-complete:disabled,\n",
              "  .colab-df-quickchart-complete:disabled:hover {\n",
              "    background-color: var(--disabled-bg-color);\n",
              "    fill: var(--disabled-fill-color);\n",
              "    box-shadow: none;\n",
              "  }\n",
              "\n",
              "  .colab-df-spinner {\n",
              "    border: 2px solid var(--fill-color);\n",
              "    border-color: transparent;\n",
              "    border-bottom-color: var(--fill-color);\n",
              "    animation:\n",
              "      spin 1s steps(1) infinite;\n",
              "  }\n",
              "\n",
              "  @keyframes spin {\n",
              "    0% {\n",
              "      border-color: transparent;\n",
              "      border-bottom-color: var(--fill-color);\n",
              "      border-left-color: var(--fill-color);\n",
              "    }\n",
              "    20% {\n",
              "      border-color: transparent;\n",
              "      border-left-color: var(--fill-color);\n",
              "      border-top-color: var(--fill-color);\n",
              "    }\n",
              "    30% {\n",
              "      border-color: transparent;\n",
              "      border-left-color: var(--fill-color);\n",
              "      border-top-color: var(--fill-color);\n",
              "      border-right-color: var(--fill-color);\n",
              "    }\n",
              "    40% {\n",
              "      border-color: transparent;\n",
              "      border-right-color: var(--fill-color);\n",
              "      border-top-color: var(--fill-color);\n",
              "    }\n",
              "    60% {\n",
              "      border-color: transparent;\n",
              "      border-right-color: var(--fill-color);\n",
              "    }\n",
              "    80% {\n",
              "      border-color: transparent;\n",
              "      border-right-color: var(--fill-color);\n",
              "      border-bottom-color: var(--fill-color);\n",
              "    }\n",
              "    90% {\n",
              "      border-color: transparent;\n",
              "      border-bottom-color: var(--fill-color);\n",
              "    }\n",
              "  }\n",
              "</style>\n",
              "\n",
              "  <script>\n",
              "    async function quickchart(key) {\n",
              "      const quickchartButtonEl =\n",
              "        document.querySelector('#' + key + ' button');\n",
              "      quickchartButtonEl.disabled = true;  // To prevent multiple clicks.\n",
              "      quickchartButtonEl.classList.add('colab-df-spinner');\n",
              "      try {\n",
              "        const charts = await google.colab.kernel.invokeFunction(\n",
              "            'suggestCharts', [key], {});\n",
              "      } catch (error) {\n",
              "        console.error('Error during call to suggestCharts:', error);\n",
              "      }\n",
              "      quickchartButtonEl.classList.remove('colab-df-spinner');\n",
              "      quickchartButtonEl.classList.add('colab-df-quickchart-complete');\n",
              "    }\n",
              "    (() => {\n",
              "      let quickchartButtonEl =\n",
              "        document.querySelector('#df-c690e80a-b611-4107-9a84-1002408cf06d button');\n",
              "      quickchartButtonEl.style.display =\n",
              "        google.colab.kernel.accessAllowed ? 'block' : 'none';\n",
              "    })();\n",
              "  </script>\n",
              "</div>\n",
              "\n",
              "    </div>\n",
              "  </div>\n"
            ]
          },
          "metadata": {},
          "execution_count": 156
        }
      ]
    },
    {
      "cell_type": "code",
      "source": [
        "prediction_and_actual = pred_test_data[['predicted_median_house', 'median_house_value']]\n",
        "\n",
        "predictions_and_actuals_rdd = prediction_and_actual.rdd\n",
        "\n",
        "predictions_and_actuals_rdd.take(2)"
      ],
      "metadata": {
        "colab": {
          "base_uri": "https://localhost:8080/"
        },
        "id": "34hXyTCLejeq",
        "outputId": "fcf17a99-c606-4de5-fdeb-6a660a80a429"
      },
      "execution_count": null,
      "outputs": [
        {
          "output_type": "execute_result",
          "data": {
            "text/plain": [
              "[Row(predicted_median_house=408829.91893564846, median_house_value=452600.0),\n",
              " Row(predicted_median_house=421759.32749554457, median_house_value=358500.0)]"
            ]
          },
          "metadata": {},
          "execution_count": 159
        }
      ]
    },
    {
      "cell_type": "code",
      "source": [
        "predictions_and_actuals_rdd = predictions_and_actuals_rdd.map(tuple)\n",
        "\n",
        "predictions_and_actuals_rdd.take(2)"
      ],
      "metadata": {
        "colab": {
          "base_uri": "https://localhost:8080/"
        },
        "id": "pbOA-qaNfOjw",
        "outputId": "79857667-6faf-4753-a43f-6422e69da7a2"
      },
      "execution_count": null,
      "outputs": [
        {
          "output_type": "execute_result",
          "data": {
            "text/plain": [
              "[(408829.91893564846, 452600.0), (421759.32749554457, 358500.0)]"
            ]
          },
          "metadata": {},
          "execution_count": 160
        }
      ]
    },
    {
      "cell_type": "code",
      "source": [
        "from pyspark.mllib.evaluation import RegressionMetrics\n",
        "\n",
        "metrics=RegressionMetrics(predictions_and_actuals_rdd)\n",
        "\n",
        "s= '''\n",
        "Mean Squared Error:      {0}\n",
        "Root Mean Squared Error: {1}\n",
        "Mean Absolute Error:     {2}\n",
        "R**2:                    {3}\n",
        "'''.format(metrics.meanSquaredError,\n",
        "           metrics.rootMeanSquaredError,\n",
        "           metrics.meanAbsoluteError,\n",
        "           metrics.r2\n",
        "          )\n",
        "\n",
        "print(s)"
      ],
      "metadata": {
        "colab": {
          "base_uri": "https://localhost:8080/"
        },
        "id": "rTl9uBZIfczn",
        "outputId": "cf664394-c91f-4e07-b0d9-f087166f57e2"
      },
      "execution_count": null,
      "outputs": [
        {
          "output_type": "stream",
          "name": "stderr",
          "text": [
            "/usr/local/lib/python3.10/dist-packages/pyspark/sql/context.py:158: FutureWarning: Deprecated in 3.0.0. Use SparkSession.builder.getOrCreate() instead.\n",
            "  warnings.warn(\n"
          ]
        },
        {
          "output_type": "stream",
          "name": "stdout",
          "text": [
            "\n",
            "Mean Squared Error:      4730215976.75517\n",
            "Root Mean Squared Error: 68776.56560744488\n",
            "Mean Absolute Error:     49980.15825947926\n",
            "R**2:                    0.6506585960320908\n",
            "\n"
          ]
        }
      ]
    },
    {
      "cell_type": "code",
      "source": [],
      "metadata": {
        "id": "QVCvQGwigPG6"
      },
      "execution_count": null,
      "outputs": []
    }
  ]
}